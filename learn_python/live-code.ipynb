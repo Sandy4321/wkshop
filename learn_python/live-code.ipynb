{
 "cells": [
  {
   "cell_type": "markdown",
   "metadata": {},
   "source": [
    "## Live code examples from lecture\n",
    "\n",
    "These map to the lecture slides and should be read in conjunction."
   ]
  },
  {
   "cell_type": "markdown",
   "metadata": {},
   "source": [
    "### string interpolation"
   ]
  },
  {
   "cell_type": "code",
   "execution_count": 1,
   "metadata": {
    "collapsed": false
   },
   "outputs": [
    {
     "data": {
      "text/plain": [
       "'things my interpolated string'"
      ]
     },
     "execution_count": 1,
     "metadata": {},
     "output_type": "execute_result"
    }
   ],
   "source": [
    "\"%s my interpolated string\" % \"things\""
   ]
  },
  {
   "cell_type": "code",
   "execution_count": 2,
   "metadata": {
    "collapsed": false
   },
   "outputs": [
    {
     "data": {
      "text/plain": [
       "'Hi I am Jon'"
      ]
     },
     "execution_count": 2,
     "metadata": {},
     "output_type": "execute_result"
    }
   ],
   "source": [
    "val_to_insert = \"Jon\"\n",
    "\"Hi I am %s\" % val_to_insert"
   ]
  },
  {
   "cell_type": "markdown",
   "metadata": {},
   "source": [
    "### Dynamic typing"
   ]
  },
  {
   "cell_type": "code",
   "execution_count": 6,
   "metadata": {
    "collapsed": false
   },
   "outputs": [
    {
     "data": {
      "text/plain": [
       "4.0"
      ]
     },
     "execution_count": 6,
     "metadata": {},
     "output_type": "execute_result"
    }
   ],
   "source": [
    "1.+(3)"
   ]
  },
  {
   "cell_type": "code",
   "execution_count": 7,
   "metadata": {
    "collapsed": false
   },
   "outputs": [
    {
     "data": {
      "text/plain": [
       "'hello world'"
      ]
     },
     "execution_count": 7,
     "metadata": {},
     "output_type": "execute_result"
    }
   ],
   "source": [
    "\"hello \" +(\"world\")"
   ]
  },
  {
   "cell_type": "code",
   "execution_count": 8,
   "metadata": {
    "collapsed": false
   },
   "outputs": [
    {
     "data": {
      "text/plain": [
       "5"
      ]
     },
     "execution_count": 8,
     "metadata": {},
     "output_type": "execute_result"
    }
   ],
   "source": [
    "first_arg = 1\n",
    "first_arg + 4"
   ]
  },
  {
   "cell_type": "code",
   "execution_count": 9,
   "metadata": {
    "collapsed": false
   },
   "outputs": [
    {
     "data": {
      "text/plain": [
       "'helloworld'"
      ]
     },
     "execution_count": 9,
     "metadata": {},
     "output_type": "execute_result"
    }
   ],
   "source": [
    "first_arg = \"hello\"\n",
    "first_arg + \"world\""
   ]
  },
  {
   "cell_type": "code",
   "execution_count": 10,
   "metadata": {
    "collapsed": false
   },
   "outputs": [
    {
     "data": {
      "text/plain": [
       "4.0"
      ]
     },
     "execution_count": 10,
     "metadata": {},
     "output_type": "execute_result"
    }
   ],
   "source": [
    "imaginary_num = 4 + 7j\n",
    "imaginary_num.real"
   ]
  },
  {
   "cell_type": "code",
   "execution_count": 11,
   "metadata": {
    "collapsed": false
   },
   "outputs": [
    {
     "data": {
      "text/plain": [
       "7.0"
      ]
     },
     "execution_count": 11,
     "metadata": {},
     "output_type": "execute_result"
    }
   ],
   "source": [
    "imaginary_num\n",
    "imaginary_num.imag"
   ]
  },
  {
   "cell_type": "markdown",
   "metadata": {},
   "source": [
    "### Lists and \"list-like\" data types"
   ]
  },
  {
   "cell_type": "code",
   "execution_count": 12,
   "metadata": {
    "collapsed": false
   },
   "outputs": [
    {
     "data": {
      "text/plain": [
       "[1, 2, 3]"
      ]
     },
     "execution_count": 12,
     "metadata": {},
     "output_type": "execute_result"
    }
   ],
   "source": [
    "my_list = [1,2,3]\n",
    "my_list"
   ]
  },
  {
   "cell_type": "code",
   "execution_count": 13,
   "metadata": {
    "collapsed": false
   },
   "outputs": [
    {
     "data": {
      "text/plain": [
       "[1, 2, 'hello']"
      ]
     },
     "execution_count": 13,
     "metadata": {},
     "output_type": "execute_result"
    }
   ],
   "source": [
    "my_list = [1,2,\"hello\"]\n",
    "my_list"
   ]
  },
  {
   "cell_type": "code",
   "execution_count": 14,
   "metadata": {
    "collapsed": false
   },
   "outputs": [
    {
     "data": {
      "text/plain": [
       "[1, 2, 'hello', 'world']"
      ]
     },
     "execution_count": 14,
     "metadata": {},
     "output_type": "execute_result"
    }
   ],
   "source": [
    "my_list.append(\"world\")\n",
    "my_list"
   ]
  },
  {
   "cell_type": "code",
   "execution_count": 15,
   "metadata": {
    "collapsed": false
   },
   "outputs": [
    {
     "name": "stdout",
     "output_type": "stream",
     "text": [
      "2\n",
      "1\n",
      "world\n",
      "world\n"
     ]
    }
   ],
   "source": [
    "print my_list[1]\n",
    "print my_list[0]\n",
    "print my_list[3]\n",
    "print my_list[-1]"
   ]
  },
  {
   "cell_type": "code",
   "execution_count": 16,
   "metadata": {
    "collapsed": false
   },
   "outputs": [
    {
     "name": "stdout",
     "output_type": "stream",
     "text": [
      "1\n",
      "2\n",
      "3\n"
     ]
    }
   ],
   "source": [
    "a,b,c = (1,2,3)\n",
    "print a\n",
    "print b\n",
    "print c"
   ]
  },
  {
   "cell_type": "code",
   "execution_count": 17,
   "metadata": {
    "collapsed": false
   },
   "outputs": [
    {
     "data": {
      "text/plain": [
       "1"
      ]
     },
     "execution_count": 17,
     "metadata": {},
     "output_type": "execute_result"
    }
   ],
   "source": [
    "tup = (1,2,3)\n",
    "a = tup[0]\n",
    "a"
   ]
  },
  {
   "cell_type": "code",
   "execution_count": 19,
   "metadata": {
    "collapsed": false
   },
   "outputs": [
    {
     "name": "stdout",
     "output_type": "stream",
     "text": [
      "1\n"
     ]
    },
    {
     "data": {
      "text/plain": [
       "[1, 2, 'hello', 'world']"
      ]
     },
     "execution_count": 19,
     "metadata": {},
     "output_type": "execute_result"
    }
   ],
   "source": [
    "print my_list[0]\n",
    "my_list"
   ]
  },
  {
   "cell_type": "code",
   "execution_count": 20,
   "metadata": {
    "collapsed": false
   },
   "outputs": [
    {
     "data": {
      "text/plain": [
       "(1, 2, 3, 4, 5)"
      ]
     },
     "execution_count": 20,
     "metadata": {},
     "output_type": "execute_result"
    }
   ],
   "source": [
    "my_reference_num = (1,2,3,4,5)\n",
    "my_reference_num"
   ]
  },
  {
   "cell_type": "code",
   "execution_count": 21,
   "metadata": {
    "collapsed": false
   },
   "outputs": [
    {
     "data": {
      "text/plain": [
       "'j'"
      ]
     },
     "execution_count": 21,
     "metadata": {},
     "output_type": "execute_result"
    }
   ],
   "source": [
    "my_string = \"jon\"\n",
    "my_string[0]"
   ]
  },
  {
   "cell_type": "code",
   "execution_count": 22,
   "metadata": {
    "collapsed": false
   },
   "outputs": [
    {
     "data": {
      "text/plain": [
       "'j'"
      ]
     },
     "execution_count": 22,
     "metadata": {},
     "output_type": "execute_result"
    }
   ],
   "source": [
    "my_char_tuple = ('j','o','n')\n",
    "my_char_tuple[0]"
   ]
  },
  {
   "cell_type": "code",
   "execution_count": 23,
   "metadata": {
    "collapsed": false
   },
   "outputs": [
    {
     "name": "stdout",
     "output_type": "stream",
     "text": [
      "['j', 'n', 'o']\n",
      "[1, 2, 'hello', 'world']\n",
      "['j', 'n', 'o']\n"
     ]
    }
   ],
   "source": [
    "print sorted(my_string)\n",
    "print sorted(my_list)\n",
    "print sorted(my_char_tuple)"
   ]
  },
  {
   "cell_type": "code",
   "execution_count": 24,
   "metadata": {
    "collapsed": false
   },
   "outputs": [
    {
     "data": {
      "text/plain": [
       "u'sdfsd'"
      ]
     },
     "execution_count": 24,
     "metadata": {},
     "output_type": "execute_result"
    }
   ],
   "source": [
    "# unicode\n",
    "u'sdfsd'"
   ]
  },
  {
   "cell_type": "markdown",
   "metadata": {},
   "source": [
    "### Control Flow"
   ]
  },
  {
   "cell_type": "code",
   "execution_count": 25,
   "metadata": {
    "collapsed": false
   },
   "outputs": [
    {
     "name": "stdout",
     "output_type": "stream",
     "text": [
      "j\n",
      "o\n",
      "n\n"
     ]
    }
   ],
   "source": [
    "for c in my_string:\n",
    "    print c"
   ]
  },
  {
   "cell_type": "code",
   "execution_count": 27,
   "metadata": {
    "collapsed": false
   },
   "outputs": [
    {
     "name": "stdout",
     "output_type": "stream",
     "text": [
      "Hello\n",
      "Hello\n",
      "Hello\n"
     ]
    }
   ],
   "source": [
    "x = 0\n",
    "while x <= 2:\n",
    "    print \"Hello\"\n",
    "    x += 1"
   ]
  },
  {
   "cell_type": "code",
   "execution_count": 1,
   "metadata": {
    "collapsed": false
   },
   "outputs": [
    {
     "name": "stdout",
     "output_type": "stream",
     "text": [
      "Hello I am jon\n",
      "Hello I am mary\n",
      "Hello I am sue\n",
      "Hello I am frank\n"
     ]
    }
   ],
   "source": [
    "for word in ['jon','mary','sue','frank']:\n",
    "    print \"Hello I am \" + word"
   ]
  },
  {
   "cell_type": "code",
   "execution_count": 29,
   "metadata": {
    "collapsed": false
   },
   "outputs": [
    {
     "data": {
      "text/plain": [
       "[3, 4, 5, 6, 7, 8, 9, 10, 11, 12]"
      ]
     },
     "execution_count": 29,
     "metadata": {},
     "output_type": "execute_result"
    }
   ],
   "source": [
    "range(3, 13)"
   ]
  },
  {
   "cell_type": "markdown",
   "metadata": {},
   "source": [
    "### Exercise"
   ]
  },
  {
   "cell_type": "code",
   "execution_count": 6,
   "metadata": {
    "collapsed": false,
    "scrolled": false
   },
   "outputs": [
    {
     "name": "stdout",
     "output_type": "stream",
     "text": [
      "14\n",
      "21\n",
      "28\n",
      "42\n",
      "49\n",
      "56\n",
      "63\n",
      "77\n",
      "84\n",
      "91\n",
      "98\n",
      "112\n",
      "119\n",
      "126\n",
      "133\n",
      "147\n",
      "154\n",
      "161\n",
      "168\n",
      "182\n",
      "189\n",
      "196\n",
      "203\n",
      "217\n",
      "224\n",
      "231\n",
      "238\n",
      "252\n",
      "259\n",
      "266\n",
      "273\n",
      "287\n",
      "294\n",
      "301\n",
      "308\n",
      "322\n",
      "329\n",
      "336\n",
      "343\n",
      "357\n",
      "364\n",
      "371\n",
      "378\n",
      "392\n",
      "399\n",
      "406\n",
      "413\n",
      "427\n",
      "434\n",
      "441\n",
      "448\n",
      "462\n",
      "469\n",
      "476\n",
      "483\n",
      "497\n",
      "504\n",
      "511\n",
      "518\n",
      "532\n",
      "539\n",
      "546\n",
      "553\n",
      "567\n",
      "574\n",
      "581\n",
      "588\n",
      "602\n",
      "609\n",
      "616\n",
      "623\n",
      "637\n",
      "644\n",
      "651\n",
      "658\n",
      "672\n",
      "679\n",
      "686\n",
      "693\n",
      "707\n",
      "714\n",
      "721\n",
      "728\n",
      "742\n",
      "749\n",
      "756\n",
      "763\n",
      "777\n",
      "784\n",
      "791\n",
      "798\n",
      "812\n",
      "819\n",
      "826\n",
      "833\n",
      "847\n",
      "854\n",
      "861\n",
      "868\n",
      "882\n",
      "889\n",
      "896\n",
      "903\n",
      "917\n",
      "924\n",
      "931\n",
      "938\n",
      "952\n",
      "959\n",
      "966\n",
      "973\n",
      "987\n",
      "994\n",
      "1001\n",
      "1008\n",
      "1022\n",
      "1029\n",
      "1036\n",
      "1043\n",
      "1057\n",
      "1064\n",
      "1071\n",
      "1078\n",
      "1092\n",
      "1099\n",
      "1106\n",
      "1113\n",
      "1127\n",
      "1134\n",
      "1141\n",
      "1148\n",
      "1162\n",
      "1169\n",
      "1176\n",
      "1183\n",
      "1197\n",
      "1204\n",
      "1211\n",
      "1218\n",
      "1232\n",
      "1239\n",
      "1246\n",
      "1253\n",
      "1267\n",
      "1274\n",
      "1281\n",
      "1288\n",
      "1302\n",
      "1309\n",
      "1316\n",
      "1323\n",
      "1337\n",
      "1344\n",
      "1351\n",
      "1358\n",
      "1372\n",
      "1379\n",
      "1386\n",
      "1393\n",
      "1407\n",
      "1414\n",
      "1421\n",
      "1428\n",
      "1442\n",
      "1449\n",
      "1456\n",
      "1463\n",
      "1477\n",
      "1484\n",
      "1491\n",
      "1498\n",
      "1512\n",
      "1519\n",
      "1526\n",
      "1533\n",
      "1547\n",
      "1554\n",
      "1561\n",
      "1568\n",
      "1582\n",
      "1589\n",
      "1596\n",
      "1603\n",
      "1617\n",
      "1624\n",
      "1631\n",
      "1638\n",
      "1652\n",
      "1659\n",
      "1666\n",
      "1673\n",
      "1687\n",
      "1694\n",
      "1701\n",
      "1708\n",
      "1722\n",
      "1729\n",
      "1736\n",
      "1743\n",
      "1757\n",
      "1764\n",
      "1771\n",
      "1778\n",
      "1792\n",
      "1799\n",
      "1806\n",
      "1813\n",
      "1827\n",
      "1834\n",
      "1841\n",
      "1848\n",
      "1862\n",
      "1869\n",
      "1876\n",
      "1883\n",
      "1897\n",
      "1904\n",
      "1911\n",
      "1918\n",
      "1932\n",
      "1939\n",
      "1946\n",
      "1953\n",
      "1967\n",
      "1974\n",
      "1981\n",
      "1988\n",
      "2002\n",
      "2009\n",
      "2016\n",
      "2023\n",
      "2037\n",
      "2044\n",
      "2051\n",
      "2058\n",
      "2072\n",
      "2079\n",
      "2086\n",
      "2093\n",
      "2107\n",
      "2114\n",
      "2121\n",
      "2128\n",
      "2142\n",
      "2149\n",
      "2156\n",
      "2163\n",
      "2177\n",
      "2184\n",
      "2191\n",
      "2198\n",
      "2212\n",
      "2219\n",
      "2226\n",
      "2233\n",
      "2247\n",
      "2254\n",
      "2261\n",
      "2268\n",
      "2282\n",
      "2289\n",
      "2296\n",
      "2303\n",
      "2317\n",
      "2324\n",
      "2331\n",
      "2338\n",
      "2352\n",
      "2359\n",
      "2366\n",
      "2373\n",
      "2387\n",
      "2394\n",
      "2401\n",
      "2408\n",
      "2422\n",
      "2429\n",
      "2436\n",
      "2443\n",
      "2457\n",
      "2464\n",
      "2471\n",
      "2478\n",
      "2492\n",
      "2499\n",
      "2506\n",
      "2513\n",
      "2527\n",
      "2534\n",
      "2541\n",
      "2548\n",
      "2562\n",
      "2569\n",
      "2576\n",
      "2583\n",
      "2597\n",
      "2604\n",
      "2611\n",
      "2618\n",
      "2632\n",
      "2639\n",
      "2646\n",
      "2653\n",
      "2667\n",
      "2674\n",
      "2681\n",
      "2688\n",
      "2702\n",
      "2709\n",
      "2716\n",
      "2723\n",
      "2737\n",
      "2744\n",
      "2751\n",
      "2758\n",
      "2772\n",
      "2779\n",
      "2786\n",
      "2793\n",
      "2807\n",
      "2814\n",
      "2821\n",
      "2828\n",
      "2842\n",
      "2849\n",
      "2856\n",
      "2863\n",
      "2877\n",
      "2884\n",
      "2891\n",
      "2898\n",
      "2912\n",
      "2919\n",
      "2926\n",
      "2933\n",
      "2947\n",
      "2954\n",
      "2961\n",
      "2968\n",
      "2982\n",
      "2989\n",
      "2996\n",
      "3003\n",
      "3017\n",
      "3024\n",
      "3031\n",
      "3038\n",
      "3052\n",
      "3059\n",
      "3066\n",
      "3073\n",
      "3087\n",
      "3094\n",
      "3101\n",
      "3108\n",
      "3122\n",
      "3129\n",
      "3136\n",
      "3143\n",
      "3157\n",
      "3164\n",
      "3171\n",
      "3178\n",
      "3192\n",
      "3199\n",
      "3206\n",
      "3213\n",
      "3227\n",
      "3234\n",
      "3241\n",
      "3248\n",
      "3262\n",
      "3269\n",
      "3276\n",
      "3283\n",
      "3297\n",
      "3304\n",
      "3311\n",
      "3318\n",
      "3332\n",
      "3339\n",
      "3346\n",
      "3353\n",
      "3367\n",
      "3374\n",
      "3381\n",
      "3388\n",
      "3402\n",
      "3409\n",
      "3416\n",
      "3423\n",
      "3437\n",
      "3444\n",
      "3451\n",
      "3458\n",
      "3472\n",
      "3479\n",
      "3486\n",
      "3493\n",
      "3507\n",
      "3514\n",
      "3521\n",
      "3528\n",
      "3542\n",
      "3549\n",
      "3556\n",
      "3563\n",
      "3577\n",
      "3584\n",
      "3591\n",
      "3598\n",
      "3612\n",
      "3619\n",
      "3626\n",
      "3633\n",
      "3647\n",
      "3654\n",
      "3661\n",
      "3668\n",
      "3682\n",
      "3689\n",
      "3696\n",
      "3703\n",
      "3717\n",
      "3724\n",
      "3731\n",
      "3738\n",
      "3752\n",
      "3759\n",
      "3766\n",
      "3773\n",
      "3787\n",
      "3794\n",
      "3801\n",
      "3808\n",
      "3822\n",
      "3829\n",
      "3836\n",
      "3843\n",
      "3857\n",
      "3864\n",
      "3871\n",
      "3878\n",
      "3892\n",
      "3899\n",
      "3906\n",
      "3913\n",
      "3927\n",
      "3934\n",
      "3941\n",
      "3948\n",
      "3962\n",
      "3969\n",
      "3976\n",
      "3983\n",
      "3997\n",
      "4004\n",
      "4011\n",
      "4018\n",
      "4032\n",
      "4039\n",
      "4046\n",
      "4053\n",
      "4067\n",
      "4074\n",
      "4081\n",
      "4088\n",
      "4102\n",
      "4109\n",
      "4116\n",
      "4123\n",
      "4137\n",
      "4144\n",
      "4151\n",
      "4158\n",
      "4172\n",
      "4179\n",
      "4186\n",
      "4193\n",
      "4207\n",
      "4214\n",
      "4221\n",
      "4228\n",
      "4242\n",
      "4249\n",
      "4256\n",
      "4263\n",
      "4277\n",
      "4284\n",
      "4291\n",
      "4298\n",
      "4312\n",
      "4319\n",
      "4326\n",
      "4333\n",
      "4347\n",
      "4354\n",
      "4361\n",
      "4368\n",
      "4382\n",
      "4389\n",
      "4396\n",
      "4403\n",
      "4417\n",
      "4424\n",
      "4431\n",
      "4438\n",
      "4452\n",
      "4459\n",
      "4466\n",
      "4473\n",
      "4487\n",
      "4494\n",
      "4501\n",
      "4508\n",
      "4522\n",
      "4529\n",
      "4536\n",
      "4543\n",
      "4557\n",
      "4564\n",
      "4571\n",
      "4578\n",
      "4592\n",
      "4599\n",
      "4606\n",
      "4613\n",
      "4627\n",
      "4634\n",
      "4641\n",
      "4648\n",
      "4662\n",
      "4669\n",
      "4676\n",
      "4683\n",
      "4697\n",
      "4704\n",
      "4711\n",
      "4718\n",
      "4732\n",
      "4739\n",
      "4746\n",
      "4753\n",
      "4767\n",
      "4774\n",
      "4781\n",
      "4788\n",
      "4802\n",
      "4809\n",
      "4816\n",
      "4823\n",
      "4837\n",
      "4844\n",
      "4851\n",
      "4858\n",
      "4872\n",
      "4879\n",
      "4886\n",
      "4893\n",
      "4907\n",
      "4914\n",
      "4921\n",
      "4928\n",
      "4942\n",
      "4949\n",
      "4956\n",
      "4963\n",
      "4977\n",
      "4984\n",
      "4991\n",
      "4998\n"
     ]
    }
   ],
   "source": [
    "for number in range(12, 5000):\n",
    "    if (number % 7 == 0) and (number % 5 != 0):\n",
    "        print number"
   ]
  },
  {
   "cell_type": "code",
   "execution_count": 7,
   "metadata": {
    "collapsed": true
   },
   "outputs": [],
   "source": [
    "results = []"
   ]
  },
  {
   "cell_type": "code",
   "execution_count": 8,
   "metadata": {
    "collapsed": true
   },
   "outputs": [],
   "source": [
    "for number in range(12, 5000):\n",
    "    if (number % 7 == 0) and (number % 5 != 0):\n",
    "        results.append(number)"
   ]
  },
  {
   "cell_type": "code",
   "execution_count": 9,
   "metadata": {
    "collapsed": false
   },
   "outputs": [
    {
     "data": {
      "text/plain": [
       "[14, 21, 28, 42, 49, 56, 63, 77, 84, 91]"
      ]
     },
     "execution_count": 9,
     "metadata": {},
     "output_type": "execute_result"
    }
   ],
   "source": [
    "# print first 10 elements (we will cover this next lesson)\n",
    "results[0:10]"
   ]
  },
  {
   "cell_type": "code",
   "execution_count": 11,
   "metadata": {
    "collapsed": false
   },
   "outputs": [
    {
     "name": "stdout",
     "output_type": "stream",
     "text": [
      "<type 'list'>\n"
     ]
    },
    {
     "data": {
      "text/plain": [
       "'hello,class,im,jon'"
      ]
     },
     "execution_count": 11,
     "metadata": {},
     "output_type": "execute_result"
    }
   ],
   "source": [
    "print type(results)\n",
    "','.join([\"hello\", \"class\", \"im\",\"jon\"])"
   ]
  },
  {
   "cell_type": "code",
   "execution_count": 12,
   "metadata": {
    "collapsed": true
   },
   "outputs": [],
   "source": [
    "results = []\n",
    "\n",
    "for number in range(12, 5000):\n",
    "    if (number % 7 == 0) and (number % 5 != 0):\n",
    "        results.append(str(number))"
   ]
  },
  {
   "cell_type": "code",
   "execution_count": 13,
   "metadata": {
    "collapsed": false
   },
   "outputs": [
    {
     "data": {
      "text/plain": [
       "'14,21,28,42,49,56,63,77,84,91,98,112,119,126,133,147,154,161,168,182,189,196,203,217,224,231,238,252,259,266,273,287,294,301,308,322,329,336,343,357,364,371,378,392,399,406,413,427,434,441,448,462,469,476,483,497,504,511,518,532,539,546,553,567,574,581,588,602,609,616,623,637,644,651,658,672,679,686,693,707,714,721,728,742,749,756,763,777,784,791,798,812,819,826,833,847,854,861,868,882,889,896,903,917,924,931,938,952,959,966,973,987,994,1001,1008,1022,1029,1036,1043,1057,1064,1071,1078,1092,1099,1106,1113,1127,1134,1141,1148,1162,1169,1176,1183,1197,1204,1211,1218,1232,1239,1246,1253,1267,1274,1281,1288,1302,1309,1316,1323,1337,1344,1351,1358,1372,1379,1386,1393,1407,1414,1421,1428,1442,1449,1456,1463,1477,1484,1491,1498,1512,1519,1526,1533,1547,1554,1561,1568,1582,1589,1596,1603,1617,1624,1631,1638,1652,1659,1666,1673,1687,1694,1701,1708,1722,1729,1736,1743,1757,1764,1771,1778,1792,1799,1806,1813,1827,1834,1841,1848,1862,1869,1876,1883,1897,1904,1911,1918,1932,1939,1946,1953,1967,1974,1981,1988,2002,2009,2016,2023,2037,2044,2051,2058,2072,2079,2086,2093,2107,2114,2121,2128,2142,2149,2156,2163,2177,2184,2191,2198,2212,2219,2226,2233,2247,2254,2261,2268,2282,2289,2296,2303,2317,2324,2331,2338,2352,2359,2366,2373,2387,2394,2401,2408,2422,2429,2436,2443,2457,2464,2471,2478,2492,2499,2506,2513,2527,2534,2541,2548,2562,2569,2576,2583,2597,2604,2611,2618,2632,2639,2646,2653,2667,2674,2681,2688,2702,2709,2716,2723,2737,2744,2751,2758,2772,2779,2786,2793,2807,2814,2821,2828,2842,2849,2856,2863,2877,2884,2891,2898,2912,2919,2926,2933,2947,2954,2961,2968,2982,2989,2996,3003,3017,3024,3031,3038,3052,3059,3066,3073,3087,3094,3101,3108,3122,3129,3136,3143,3157,3164,3171,3178,3192,3199,3206,3213,3227,3234,3241,3248,3262,3269,3276,3283,3297,3304,3311,3318,3332,3339,3346,3353,3367,3374,3381,3388,3402,3409,3416,3423,3437,3444,3451,3458,3472,3479,3486,3493,3507,3514,3521,3528,3542,3549,3556,3563,3577,3584,3591,3598,3612,3619,3626,3633,3647,3654,3661,3668,3682,3689,3696,3703,3717,3724,3731,3738,3752,3759,3766,3773,3787,3794,3801,3808,3822,3829,3836,3843,3857,3864,3871,3878,3892,3899,3906,3913,3927,3934,3941,3948,3962,3969,3976,3983,3997,4004,4011,4018,4032,4039,4046,4053,4067,4074,4081,4088,4102,4109,4116,4123,4137,4144,4151,4158,4172,4179,4186,4193,4207,4214,4221,4228,4242,4249,4256,4263,4277,4284,4291,4298,4312,4319,4326,4333,4347,4354,4361,4368,4382,4389,4396,4403,4417,4424,4431,4438,4452,4459,4466,4473,4487,4494,4501,4508,4522,4529,4536,4543,4557,4564,4571,4578,4592,4599,4606,4613,4627,4634,4641,4648,4662,4669,4676,4683,4697,4704,4711,4718,4732,4739,4746,4753,4767,4774,4781,4788,4802,4809,4816,4823,4837,4844,4851,4858,4872,4879,4886,4893,4907,4914,4921,4928,4942,4949,4956,4963,4977,4984,4991,4998'"
      ]
     },
     "execution_count": 13,
     "metadata": {},
     "output_type": "execute_result"
    }
   ],
   "source": [
    "','.join(results)"
   ]
  },
  {
   "cell_type": "markdown",
   "metadata": {},
   "source": [
    "### File objects"
   ]
  },
  {
   "cell_type": "code",
   "execution_count": 44,
   "metadata": {
    "collapsed": false
   },
   "outputs": [
    {
     "name": "stdout",
     "output_type": "stream",
     "text": [
      "<type 'file'>\n",
      "['comp.sys.ibm.pc.hardware\\n', ': >>point of view, why does SCSI have an advantage when it comes to multi-\\n', ': >>tasking?  Data is data, and it could be anywhere on the drive.  Can\\n', ': >>SCSI find it faster?  can it get it off the drive and into the computer\\n', ': >>faster?  Does it have a better cache system?  I thought SCSI was good at\\n', ': >>managing a data bus when multiple devices are attached.  If we are\\n', ': >>only talking about a single drive, explain why SCSI is inherently\\n', ': >>faster at managing data from a hard drive.\\n', '\\n', ': >IDE:  Integrated Device Electronics \\n', ': > currently the most common standard, and is mainly used for medium sized \\n', ': > drives. Can have more than one hard drive. Asynchronous Transfer: ~5MB/s max.\\n', '\\n', \": Why don't you start with the spec-sheet of the ISA bus first?\\n\", \": You can quote SCSI specs till you're blue in the face, but if they\\n\", \": exceed the ISA bus capability, then what's the point?\\n\", '\\n', 'Who said ISA was necessary?  EISA or VLB are the only interfaces worth\\n', \"investing thousands of dollars (e.g. a new pc's worth of money ) in .\\n\", '\\n', ': Who says IDE is limited to 5 megs/sec?  What about VLB-IDE?  Does anyone\\n', ': know how they perform?\\n', '\\n', \"You didn't read to carefully.  VLB-IDE uses the same connection mechanism\\n\", \"as standard IDE.  If transfer rate is limited by IDE, whether it's\\n\", 'interfaced to ISA, EISA or VLB matters not.\\n', '\\n', ': >So at its LOWEST setting SCSI-2 interface in Asynchronous SCSI-1 mode AVERAGES \\n', ': >the through put MAXIMUM of IDE in asynchronous mode.  In full SCSI-2 mode\\n', ': >it blows poor IDE out the window, down the street, and into the garbage can.\\n', ': As implimented on what system?  \\n', '\\n', 'On mine, for one thing.  SCSI blows IDE out of the water, hands down.  If\\n', \"IDE has better throughput, why isn't it used on workstations and file\\n\", 'servers?  \\n', '\\n', ': >The problem becomes can the drive mechanisim keep up with those through put\\n', ': >rates and THAT is where the bottleneck and cost of SCSI-2 comes from.  NOT\\n', ': >the interface itself but more and more from drive mechanisims to use the\\n', ': >SCSI-2 through put.  \\n', '\\n', ': Given the original question (SCSI used only as a single hard drive\\n', ': controller),  is it then necessary to get a SCSI drive that will do\\n', ': at least 5, maybe 10 megs/sec for the SCSI choice to make any sence?\\n', ': What does a 200-400 meg 5 megs/sec SCSI drive cost?\\n', '\\n', \"No, that's the nice thing -- on a multitasking OS, SCSI can use both drives\\n\", \"at once.  I've got unix loaded on one of my pcs (along with windogs) and the OS can only use one of the two IDE drives at one time.  It's pretty ugly.\\n\", '\\n', 'I just bought at Quantum 240 for my mac at home.  I paid $369 for it.  I\\n', \"haven't seen IDE drives cheaper.\\n\", '\\n', \": The original CGA cart back in '84 was $300.  I think the original EGA card\\n\", ': (or PGA?) was $800.  SCSI has stood relatively alone in not coming down\\n', \": in price, mainly because we're talking about PC's and not Sun's or Sparc\\n\", ': or SGI or (name your favorite unix workstation).  That is, after millions\\n', ': of PC buying decisions over the years, SCSI has had plenty of time to\\n', ': come down in price.\\n', '\\n', \"No, actually, we're talking about SCSI being expensive simply because\\n\", 'nobody did a common interface for the PC.  If they had a common (read:\\n', 'easily implemented) method of adding scsi to a PC (like as in a Sun or\\n', \"Mac), then you'd find SCSI the connection medium of choice.\\n\", '\\n', \": I won't argue that the SCSI standard makes for a good, well implimented\\n\", ': data highway, but I still want to know why it intrinsically better\\n', \": (than IDE, on an ISA bus) when it comes to multi-tasking OS's when\\n\", ': managing data from a single SCSI hard drive.\\n', '\\n', 'On a single drive, SCSI is more expensive.  But, you bought your PC for\\n', \"expandibility, so, you'd want to add more drives or whatever.  The\\n\", 'following are why I find SCSI intrinsically better than IDE:\\n', '\\n', 'A (partial?) list:\\n', '\\t1.  You can add many different types of devices and access them \\n', '\\tconcurrently.\\n', '\\t2.  A SCSI device works on many different machines (I have a mac\\n', '\\tand a PC at home and moving hard drives between them is VERY nice\\n', '\\twith SCSI -- hook them up and away they go)\\n', '\\t3.  SCSI devices work together better than IDE devices.  For\\n', '\\tinstance, recently, I added an older connor 100 meg IDE to a maxtor\\n', '\\t212 meg IDE.  The connor *MUST* be setup as the slave.  It will\\n', '\\twork no other way.  On SCSI, you set the address, check the\\n', '\\ttermination, plug it in, and away it goes.\\n', \"\\t4.  I have a problem with IDE's mutual exclusion - I notice that\\n\", '\\tthe time it takes to switch from accessing drive c: to drive d: is\\n', '\\tquite long as compared to the time it takes to switch from drive c:\\n', '\\tto d: on a SCSI system.  Under a multitasking OS, this is very\\n', '\\tnoticable, as many things can be going on at once.\\n', '\\n', \"One neat thing that I've noticed lately (a fringe benefit) has been the\\n\", 'ability to add older (almost dead) drives as storage on a SCSI system with\\n', \"little problem -- we've got a bunch of almost dead 20 meg drives that I've\\n\", \"added to my PC.  I've now got the interface full, but, it does allow me to\\n\", 'have 4 20 meg drives, 1 240 meg drive, 1 tape drive, and 1 105 meg drive\\n', 'all on the same card.  \\n', '\\n', 'Simply put, SCSI is handier than IDE.  No mysterious jumpers to figure out.\\n', '\\n', 'Greg.']\n"
     ]
    }
   ],
   "source": [
    "with open(\"/Users/jonathandinu/Repositories/workshopper/data-engineering-101/text/article0.txt\", 'r') as f:\n",
    "    print type(f)\n",
    "    print f.readlines()"
   ]
  },
  {
   "cell_type": "code",
   "execution_count": 45,
   "metadata": {
    "collapsed": false
   },
   "outputs": [
    {
     "data": {
      "text/plain": [
       "<closed file '/Users/jonathandinu/Repositories/workshopper/data-engineering-101/text/article0.txt', mode 'r' at 0x105c58780>"
      ]
     },
     "execution_count": 45,
     "metadata": {},
     "output_type": "execute_result"
    }
   ],
   "source": [
    "# close file handle\n",
    "f"
   ]
  },
  {
   "cell_type": "code",
   "execution_count": 46,
   "metadata": {
    "collapsed": false
   },
   "outputs": [
    {
     "ename": "ValueError",
     "evalue": "I/O operation on closed file",
     "output_type": "error",
     "traceback": [
      "\u001b[0;31m---------------------------------------------------------------------------\u001b[0m",
      "\u001b[0;31mValueError\u001b[0m                                Traceback (most recent call last)",
      "\u001b[0;32m<ipython-input-46-8bb76d78f093>\u001b[0m in \u001b[0;36m<module>\u001b[0;34m()\u001b[0m\n\u001b[0;32m----> 1\u001b[0;31m \u001b[0;32mfor\u001b[0m \u001b[0mline\u001b[0m \u001b[0;32min\u001b[0m \u001b[0mf\u001b[0m\u001b[0;34m:\u001b[0m\u001b[0;34m\u001b[0m\u001b[0m\n\u001b[0m\u001b[1;32m      2\u001b[0m     \u001b[0mf\u001b[0m\u001b[0;34m\u001b[0m\u001b[0m\n",
      "\u001b[0;31mValueError\u001b[0m: I/O operation on closed file"
     ]
    }
   ],
   "source": [
    "for line in f:\n",
    "    f"
   ]
  },
  {
   "cell_type": "code",
   "execution_count": 2,
   "metadata": {
    "collapsed": false
   },
   "outputs": [
    {
     "ename": "IOError",
     "evalue": "[Errno 2] No such file or directory: '/Users/jonathandinu/Repositories/workshopper/data-engineering-101/text/article0.txt'",
     "output_type": "error",
     "traceback": [
      "\u001b[1;31m---------------------------------------------------------------------------\u001b[0m",
      "\u001b[1;31mIOError\u001b[0m                                   Traceback (most recent call last)",
      "\u001b[1;32m<ipython-input-2-ef2050772bc1>\u001b[0m in \u001b[0;36m<module>\u001b[1;34m()\u001b[0m\n\u001b[1;32m----> 1\u001b[1;33m \u001b[1;32mwith\u001b[0m \u001b[0mopen\u001b[0m\u001b[1;33m(\u001b[0m\u001b[1;34m\"/Users/jonathandinu/Repositories/workshopper/data-engineering-101/text/article0.txt\"\u001b[0m\u001b[1;33m,\u001b[0m \u001b[1;34m'r'\u001b[0m\u001b[1;33m)\u001b[0m \u001b[1;32mas\u001b[0m \u001b[0mf\u001b[0m\u001b[1;33m:\u001b[0m\u001b[1;33m\u001b[0m\u001b[0m\n\u001b[0m\u001b[0;32m      2\u001b[0m     \u001b[1;32mfor\u001b[0m \u001b[0mline\u001b[0m \u001b[1;32min\u001b[0m \u001b[0mf\u001b[0m\u001b[1;33m:\u001b[0m\u001b[1;33m\u001b[0m\u001b[0m\n\u001b[0;32m      3\u001b[0m         \u001b[1;32mprint\u001b[0m \u001b[0mline\u001b[0m\u001b[1;33m\u001b[0m\u001b[0m\n",
      "\u001b[1;31mIOError\u001b[0m: [Errno 2] No such file or directory: '/Users/jonathandinu/Repositories/workshopper/data-engineering-101/text/article0.txt'"
     ]
    }
   ],
   "source": [
    "with open(\"/Users/jonathandinu/Repositories/workshopper/data-engineering-101/text/article0.txt\", 'r') as f:\n",
    "    for line in f:\n",
    "        print line"
   ]
  },
  {
   "cell_type": "code",
   "execution_count": 5,
   "metadata": {
    "collapsed": false
   },
   "outputs": [
    {
     "data": {
      "text/plain": [
       "9223372036854775807"
      ]
     },
     "execution_count": 5,
     "metadata": {},
     "output_type": "execute_result"
    }
   ],
   "source": [
    "import sys\n",
    "sys.maxint"
   ]
  },
  {
   "cell_type": "code",
   "execution_count": null,
   "metadata": {
    "collapsed": true
   },
   "outputs": [],
   "source": []
  },
  {
   "cell_type": "code",
   "execution_count": null,
   "metadata": {
    "collapsed": true
   },
   "outputs": [],
   "source": []
  },
  {
   "cell_type": "code",
   "execution_count": null,
   "metadata": {
    "collapsed": true
   },
   "outputs": [],
   "source": []
  }
 ],
 "metadata": {
  "kernelspec": {
   "display_name": "Python 2",
   "language": "python",
   "name": "python2"
  },
  "language_info": {
   "codemirror_mode": {
    "name": "ipython",
    "version": 2
   },
   "file_extension": ".py",
   "mimetype": "text/x-python",
   "name": "python",
   "nbconvert_exporter": "python",
   "pygments_lexer": "ipython2",
   "version": "2.7.10"
  }
 },
 "nbformat": 4,
 "nbformat_minor": 0
}
